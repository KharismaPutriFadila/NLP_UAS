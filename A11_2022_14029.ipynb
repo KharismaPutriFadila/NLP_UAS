{
  "cells": [
    {
      "cell_type": "markdown",
      "metadata": {
        "id": "view-in-github",
        "colab_type": "text"
      },
      "source": [
        "<a href=\"https://colab.research.google.com/github/KharismaPutriFadila/NLP_UAS/blob/main/A11_2022_14029.ipynb\" target=\"_parent\"><img src=\"https://colab.research.google.com/assets/colab-badge.svg\" alt=\"Open In Colab\"/></a>"
      ]
    },
    {
      "cell_type": "code",
      "source": [
        "# Import Library\n",
        "# 1. Import Library\n",
        "import pandas as pd\n",
        "import numpy as np\n",
        "import matplotlib.pyplot as plt\n",
        "import seaborn as sns\n",
        "import re\n",
        "import string\n",
        "\n",
        "from sklearn.model_selection import train_test_split\n",
        "from sklearn.preprocessing import LabelEncoder\n",
        "from sklearn.feature_extraction.text import TfidfVectorizer\n",
        "from sklearn.naive_bayes import MultinomialNB\n",
        "from sklearn.linear_model import LogisticRegression\n",
        "from sklearn.metrics import classification_report, confusion_matrix, accuracy_score"
      ],
      "metadata": {
        "id": "TNWLxXydG9rb"
      },
      "execution_count": 1,
      "outputs": []
    },
    {
      "cell_type": "code",
      "source": [
        "# Load dataset\n",
        "df = pd.read_csv(\"twitter_training.csv\", header=None)\n",
        "df.columns = ['ID', 'Topic', 'Sentiment', 'Tweet']\n",
        "df = df[['Sentiment', 'Tweet']]"
      ],
      "metadata": {
        "id": "miPfBZgbIX9P"
      },
      "execution_count": 3,
      "outputs": []
    },
    {
      "cell_type": "code",
      "source": [
        "#Preprocessing Teks\n",
        "manual_stopwords = set([\n",
        "    'the','and','is','in','to','of','a','that','it','for','on','with','as','this',\n",
        "    'was','but','are','they','be','at','have','you','not','or','an','from','by'\n",
        "])\n",
        "\n",
        "# Fungsi preprocessing\n",
        "def clean_text(text):\n",
        "    if not isinstance(text, str):\n",
        "        return \"\"\n",
        "    text = text.lower()\n",
        "    text = re.sub(r\"http\\S+|@\\w+|#\\w+\", \"\", text) # hapus url, mention, hashtag\n",
        "    text = re.sub(f\"[{re.escape(string.punctuation)}]\", \"\", text)  # hapus tanda baca\n",
        "    text = re.sub(r\"\\d+\", \"\", text) # hapus angka\n",
        "    tokens = text.split()\n",
        "    tokens = [w for w in tokens if w not in manual_stopwords]\n",
        "    return \" \".join(tokens)\n",
        "\n",
        "# Terapkan fungsi ke kolom tweet\n",
        "df['Tweet'] = df['Tweet'].astype(str).fillna('')\n",
        "\n",
        "# Lihat hasil\n",
        "df['clean_tweet'] = df['Tweet'].apply(clean_text)"
      ],
      "metadata": {
        "id": "ZyWlY1KNI2Hm"
      },
      "execution_count": 7,
      "outputs": []
    },
    {
      "cell_type": "code",
      "source": [
        "# Ekstrasi fitur TF-IDF\n",
        "from sklearn.feature_extraction.text import TfidfVectorizer\n",
        "\n",
        "# Ubah label sentimen ke angka\n",
        "from sklearn.preprocessing import LabelEncoder\n",
        "le = LabelEncoder()\n",
        "df['label'] = le.fit_transform(df['Sentiment'])\n",
        "\n",
        "# TF-IDF Vectorization\n",
        "tfidf = TfidfVectorizer(max_features=3000)\n",
        "X = tfidf.fit_transform(df['clean_tweet']).toarray()\n",
        "y = df['label']\n",
        "\n",
        "# Cek bentuk matriks fitur\n",
        "X.shape\n"
      ],
      "metadata": {
        "colab": {
          "base_uri": "https://localhost:8080/"
        },
        "id": "kzpSfO25KxQB",
        "outputId": "9b8ddde7-ec51-4ae4-fb41-12d615ebf50c"
      },
      "execution_count": 8,
      "outputs": [
        {
          "output_type": "execute_result",
          "data": {
            "text/plain": [
              "(74682, 3000)"
            ]
          },
          "metadata": {},
          "execution_count": 8
        }
      ]
    },
    {
      "cell_type": "code",
      "source": [
        "# Split data untuk training dan testing\n",
        "from sklearn.model_selection import train_test_split\n",
        "\n",
        "# Split data\n",
        "X_train, X_test, y_train, y_test = train_test_split(\n",
        "    X, y, test_size=0.2, random_state=42\n",
        ")\n"
      ],
      "metadata": {
        "id": "sc4obaXmK8x8"
      },
      "execution_count": 9,
      "outputs": []
    },
    {
      "cell_type": "code",
      "source": [
        "# Model Naive bayes\n",
        "from sklearn.naive_bayes import MultinomialNB\n",
        "nb = MultinomialNB()\n",
        "nb.fit(X_train, y_train)\n",
        "\n",
        "# Prediksi\n",
        "nb_pred = nb.predict(X_test)\n"
      ],
      "metadata": {
        "id": "hklLxAmHLGiG"
      },
      "execution_count": 10,
      "outputs": []
    },
    {
      "cell_type": "code",
      "source": [
        "# Model Logistic Regression\n",
        "from sklearn.linear_model import LogisticRegression\n",
        "lr = LogisticRegression(max_iter=1000)\n",
        "lr.fit(X_train, y_train)\n",
        "\n",
        "# Prediksi\n",
        "lr_pred = lr.predict(X_test)"
      ],
      "metadata": {
        "id": "WlIEyHR9LyHE"
      },
      "execution_count": 12,
      "outputs": []
    },
    {
      "cell_type": "code",
      "source": [
        "# Evaluasi model\n",
        "from sklearn.metrics import classification_report, confusion_matrix, accuracy_score\n",
        "\n",
        "# Fungsi evaluasi\n",
        "def evaluate(name, y_true, y_pred):\n",
        "    print(f\"\\n=== {name} ===\")\n",
        "    print(\"Accuracy :\", accuracy_score(y_true, y_pred))\n",
        "    print(\"Confusion Matrix:\\n\", confusion_matrix(y_true, y_pred))\n",
        "    print(\"Classification Report:\\n\", classification_report(\n",
        "        y_true, y_pred, target_names=le.classes_))\n",
        "\n",
        "# Evaluasi Naive Bayes\n",
        "evaluate(\"Naive Bayes\", y_test, nb_pred)\n",
        "\n",
        "# Evaluasi Logistic Regression\n",
        "evaluate(\"Logistic Regression\", y_test, lr_pred)\n"
      ],
      "metadata": {
        "colab": {
          "base_uri": "https://localhost:8080/"
        },
        "id": "-fP0dS22McFm",
        "outputId": "01e6aaf8-e9d3-422d-a033-7589a97ee60f"
      },
      "execution_count": 13,
      "outputs": [
        {
          "output_type": "stream",
          "name": "stdout",
          "text": [
            "\n",
            "=== Naive Bayes ===\n",
            "Accuracy : 0.60413737698333\n",
            "Confusion Matrix:\n",
            " [[ 758  789  382  663]\n",
            " [  97 3546  423  453]\n",
            " [ 165  916 1741  774]\n",
            " [ 117  692  442 2979]]\n",
            "Classification Report:\n",
            "               precision    recall  f1-score   support\n",
            "\n",
            "  Irrelevant       0.67      0.29      0.41      2592\n",
            "    Negative       0.60      0.78      0.68      4519\n",
            "     Neutral       0.58      0.48      0.53      3596\n",
            "    Positive       0.61      0.70      0.65      4230\n",
            "\n",
            "    accuracy                           0.60     14937\n",
            "   macro avg       0.61      0.57      0.57     14937\n",
            "weighted avg       0.61      0.60      0.59     14937\n",
            "\n",
            "\n",
            "=== Logistic Regression ===\n",
            "Accuracy : 0.643034076454442\n",
            "Confusion Matrix:\n",
            " [[1203  449  446  494]\n",
            " [ 218 3346  567  388]\n",
            " [ 295  587 2147  567]\n",
            " [ 272  431  618 2909]]\n",
            "Classification Report:\n",
            "               precision    recall  f1-score   support\n",
            "\n",
            "  Irrelevant       0.61      0.46      0.53      2592\n",
            "    Negative       0.70      0.74      0.72      4519\n",
            "     Neutral       0.57      0.60      0.58      3596\n",
            "    Positive       0.67      0.69      0.68      4230\n",
            "\n",
            "    accuracy                           0.64     14937\n",
            "   macro avg       0.63      0.62      0.63     14937\n",
            "weighted avg       0.64      0.64      0.64     14937\n",
            "\n"
          ]
        }
      ]
    },
    {
      "cell_type": "code",
      "source": [
        "import matplotlib.pyplot as plt\n",
        "\n",
        "# Hitung akurasi\n",
        "nb_accuracy = accuracy_score(y_test, nb_pred)\n",
        "lr_accuracy = accuracy_score(y_test, lr_pred)\n",
        "\n",
        "# Buat tabel akurasi\n",
        "import pandas as pd\n",
        "\n",
        "akurasi_data = {\n",
        "    \"Model\": [\"Naive Bayes\", \"Logistic Regression\"],\n",
        "    \"Accuracy\": [nb_accuracy, lr_accuracy]\n",
        "}\n",
        "\n",
        "df_akurasi = pd.DataFrame(akurasi_data)\n",
        "\n",
        "# Tampilkan tabel akurasi\n",
        "print(\"\\nTabel Akurasi Model:\")\n",
        "print(df_akurasi)\n",
        "\n",
        "# Buat grafik batang\n",
        "plt.figure(figsize=(6, 4))\n",
        "plt.bar(df_akurasi[\"Model\"], df_akurasi[\"Accuracy\"], color=[\"skyblue\", \"orange\"])\n",
        "plt.ylim(0, 1)\n",
        "plt.ylabel(\"Accuracy\")\n",
        "plt.title(\"Perbandingan Akurasi Model\")\n",
        "plt.grid(axis='y', linestyle='--', alpha=0.7)\n",
        "plt.show()\n"
      ],
      "metadata": {
        "colab": {
          "base_uri": "https://localhost:8080/",
          "height": 478
        },
        "id": "-GJCOF_uMlWP",
        "outputId": "2efa4b19-afa0-4079-9fdc-8da26d88c5be"
      },
      "execution_count": 14,
      "outputs": [
        {
          "output_type": "stream",
          "name": "stdout",
          "text": [
            "\n",
            "Tabel Akurasi Model:\n",
            "                 Model  Accuracy\n",
            "0          Naive Bayes  0.604137\n",
            "1  Logistic Regression  0.643034\n"
          ]
        },
        {
          "output_type": "display_data",
          "data": {
            "text/plain": [
              "<Figure size 600x400 with 1 Axes>"
            ],
            "image/png": "[encoded data removed]"
          },
          "metadata": {}
        }
      ]
    }
  ],
  "metadata": {
    "colab": {
      "provenance": [],
      "include_colab_link": true
    },
    "kernelspec": {
      "display_name": "Python 3",
      "name": "python3"
    }
  },
  "nbformat": 4,
  "nbformat_minor": 0
}